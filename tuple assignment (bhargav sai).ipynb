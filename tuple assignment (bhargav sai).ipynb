{
 "cells": [
  {
   "cell_type": "code",
   "execution_count": 2,
   "id": "9b226e79",
   "metadata": {},
   "outputs": [],
   "source": [
    "# 1. Find elements frequency in Tuple"
   ]
  },
  {
   "cell_type": "code",
   "execution_count": 3,
   "id": "12ca7288",
   "metadata": {},
   "outputs": [
    {
     "data": {
      "text/plain": [
       "{4: 2, 5: 2, 6: 2}"
      ]
     },
     "execution_count": 3,
     "metadata": {},
     "output_type": "execute_result"
    }
   ],
   "source": [
    "a=(4, 5, 4, 5, 6, 6, 5)\n",
    "u={}\n",
    "b=a.count(4)\n",
    "c=a.count(5)\n",
    "d=a.count(6)\n",
    "h=(b,c,d)\n",
    "g=[4,5,6]\n",
    "for i in g:\n",
    "    for x in h:\n",
    "        u[i]=x\n",
    "u"
   ]
  },
  {
   "cell_type": "code",
   "execution_count": 4,
   "id": "0dc1a199",
   "metadata": {},
   "outputs": [
    {
     "data": {
      "text/plain": [
       "{4: 2, 5: 3, 6: 2}"
      ]
     },
     "execution_count": 4,
     "metadata": {},
     "output_type": "execute_result"
    }
   ],
   "source": [
    "#method 2\n",
    "a=(4, 5, 4, 5, 6, 6, 5)\n",
    "b=list(a)\n",
    "c={}\n",
    "for i in b:\n",
    "    c[i]=a.count(i)\n",
    "c   "
   ]
  },
  {
   "cell_type": "code",
   "execution_count": 5,
   "id": "756f7b72",
   "metadata": {},
   "outputs": [],
   "source": [
    "# 2. Python program to sort a list of tuples alphabetically"
   ]
  },
  {
   "cell_type": "code",
   "execution_count": 6,
   "id": "f80434c9",
   "metadata": {},
   "outputs": [
    {
     "data": {
      "text/plain": [
       "[('aa', 30), ('aaaa', 28), ('bab', 29), ('bb', 21), ('csa', 'C')]"
      ]
     },
     "execution_count": 6,
     "metadata": {},
     "output_type": "execute_result"
    }
   ],
   "source": [
    "a= [(\"aaaa\", 28), (\"aa\", 30), (\"bab\", 29), (\"bb\", 21), (\"csa\", \"C\")]\n",
    "a.sort()\n",
    "a"
   ]
  },
  {
   "cell_type": "code",
   "execution_count": 7,
   "id": "5fbb1594",
   "metadata": {},
   "outputs": [],
   "source": [
    "# 3. Write a Python program to calculate the average value of the numbers in a given tuple of tuples"
   ]
  },
  {
   "cell_type": "code",
   "execution_count": 8,
   "id": "2f7ebac2",
   "metadata": {},
   "outputs": [
    {
     "data": {
      "text/plain": [
       "[25.5, -18.0, 3.75]"
      ]
     },
     "execution_count": 8,
     "metadata": {},
     "output_type": "execute_result"
    }
   ],
   "source": [
    "a= ((1, 1, -5), (30, -15, 56), (81, -60, -39), (-10, 2, 3))\n",
    "b=0\n",
    "c=0\n",
    "d=0\n",
    "f=[]\n",
    "for i in a:\n",
    "    b=b+i[0]/4\n",
    "    c=c+i[1]/4\n",
    "    d=d+i[2]/4\n",
    "f.append(b)\n",
    "f.append(c)\n",
    "f.append(d)\n",
    "f"
   ]
  },
  {
   "cell_type": "code",
   "execution_count": 9,
   "id": "5fa1bb15",
   "metadata": {},
   "outputs": [
    {
     "data": {
      "text/plain": [
       "[25.5, -18.0, 3.75]"
      ]
     },
     "execution_count": 9,
     "metadata": {},
     "output_type": "execute_result"
    }
   ],
   "source": [
    "#method2\n",
    "a= ((1, 1, -5), (30, -15, 56), (81, -60, -39), (-10, 2, 3))\n",
    "b=[]\n",
    "for i in zip(*a):\n",
    "    v=sum(i)/len(i)\n",
    "    b.append(v)\n",
    "b    "
   ]
  },
  {
   "cell_type": "code",
   "execution_count": null,
   "id": "9f3ed073",
   "metadata": {},
   "outputs": [],
   "source": []
  }
 ],
 "metadata": {
  "kernelspec": {
   "display_name": "Python 3 (ipykernel)",
   "language": "python",
   "name": "python3"
  },
  "language_info": {
   "codemirror_mode": {
    "name": "ipython",
    "version": 3
   },
   "file_extension": ".py",
   "mimetype": "text/x-python",
   "name": "python",
   "nbconvert_exporter": "python",
   "pygments_lexer": "ipython3",
   "version": "3.9.13"
  }
 },
 "nbformat": 4,
 "nbformat_minor": 5
}
